{
 "cells": [
  {
   "cell_type": "code",
   "execution_count": null,
   "metadata": {
    "collapsed": true
   },
   "outputs": [],
   "source": [
    "# $ python manage.py shell\n",
    "# from url_analysers.models import UrlUnderInvestigation, Investigation\n",
    "# use this-^^^\n",
    "# not this-vvv (only for autocomplete)\n",
    "from django_app.app.url_analysers.models import UrlUnderInvestigation\n",
    "\n",
    "uui = UrlUnderInvestigation(mnemonic_name=\"google\", url=\"https://www.google.com\")\n",
    "uui.save()\n",
    "uui.id\n",
    "uui.url\n",
    "UrlUnderInvestigation.objects.all()\n",
    "\n",
    "from django.utils import timezone\n",
    "\n",
    "uui = UrlUnderInvestigation.objects.get(pk=1)\n",
    "uui.investigation_set.all()\n",
    "\n",
    "from urllib import request\n",
    "\n",
    "start_time = timezone.now()\n",
    "req = request.urlopen(uui.url)\n",
    "end_time = timezone.now()\n",
    "\n",
    "status_code = req.getcode()\n",
    "info = req.info()\n",
    "\n",
    "i = uui.investigation_set.create(request_start_time=start_time, request_end_time=end_time, info=info, status_code=status_code)\n",
    "\n",
    "i.status_code\n",
    "i.info\n",
    "str(i.info)\n",
    "uui.investigation_set.count()\n"
   ]
  },
  {
   "cell_type": "code",
   "execution_count": null,
   "outputs": [],
   "source": [
    "# $ python manage.py shell\n",
    "# from web_site_availability.models import WebSite, CheckRequest\n",
    "from django_rest_app.app_rest.web_site_availability.models import WebSite\n",
    "\n",
    "web_site = WebSite(mnemonic_name=\"google\", url=\"https://www.google.com\")\n",
    "web_site.save()\n",
    "check_request = web_site.websitecheckrequest_set.create()\n",
    "web_site.websitecheckrequest_set.all()\n",
    "\n",
    "web_site = WebSite.objects.get(pk=1)\n",
    "check_requests = web_site.websitecheckrequest_set.all()"
   ],
   "metadata": {
    "collapsed": false,
    "pycharm": {
     "name": "#%%\n"
    }
   }
  }
 ],
 "metadata": {
  "kernelspec": {
   "display_name": "Python 3",
   "language": "python",
   "name": "python3"
  },
  "language_info": {
   "codemirror_mode": {
    "name": "ipython",
    "version": 2
   },
   "file_extension": ".py",
   "mimetype": "text/x-python",
   "name": "python",
   "nbconvert_exporter": "python",
   "pygments_lexer": "ipython2",
   "version": "2.7.6"
  }
 },
 "nbformat": 4,
 "nbformat_minor": 0
}