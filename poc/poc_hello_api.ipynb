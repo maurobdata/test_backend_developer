{
 "cells": [
  {
   "cell_type": "code",
   "execution_count": 24,
   "metadata": {
    "collapsed": true
   },
   "outputs": [
    {
     "name": "stdout",
     "output_type": "stream",
     "text": [
      "Response from:  https://www.google.com\n",
      "Status code:  200\n",
      "\n",
      "Info:\n",
      "Date: Mon, 28 Jun 2021 17:43:56 GMT\n",
      "Expires: -1\n",
      "Cache-Control: private, max-age=0\n",
      "Content-Type: text/html; charset=ISO-8859-1\n",
      "P3P: CP=\"This is not a P3P policy! See g.co/p3phelp for more info.\"\n",
      "Server: gws\n",
      "X-XSS-Protection: 0\n",
      "X-Frame-Options: SAMEORIGIN\n",
      "Set-Cookie: CONSENT=PENDING+178; expires=Fri, 01-Jan-2038 00:00:00 GMT; path=/; domain=.google.com; Secure\n",
      "Alt-Svc: h3=\":443\"; ma=2592000,h3-29=\":443\"; ma=2592000,h3-T051=\":443\"; ma=2592000,h3-Q050=\":443\"; ma=2592000,h3-Q046=\":443\"; ma=2592000,h3-Q043=\":443\"; ma=2592000,quic=\":443\"; ma=2592000; v=\"46,43\"\n",
      "Accept-Ranges: none\n",
      "Vary: Accept-Encoding\n",
      "Connection: close\n",
      "Transfer-Encoding: chunked\n",
      "\n",
      "\n"
     ]
    },
    {
     "data": {
      "text/plain": "<http.client.HTTPResponse at 0x110d81df0>"
     },
     "execution_count": 24,
     "metadata": {},
     "output_type": "execute_result"
    }
   ],
   "source": [
    "from urllib import request\n",
    "\n",
    "import validators\n",
    "\n",
    "def api_http(test_url):\n",
    "    if not test_url:\n",
    "        return 'NO_DATA_URL'\n",
    "\n",
    "    #check if url is valid\n",
    "    valid=validators.url(test_url)\n",
    "    if not valid:\n",
    "        return 'NO_VALID_URL'\n",
    "\n",
    "    req = request.urlopen(test_url)\n",
    "    status_code = req.getcode()\n",
    "    info = req.info()\n",
    "    print('Response from: ', test_url)\n",
    "    print('Status code: ', status_code)\n",
    "    print('\\nInfo:')\n",
    "    print(info)\n",
    "\n",
    "    return req\n",
    "\n",
    "api_http('https://www.google.com')"
   ]
  }
 ],
 "metadata": {
  "kernelspec": {
   "display_name": "Python 3",
   "language": "python",
   "name": "python3"
  },
  "language_info": {
   "codemirror_mode": {
    "name": "ipython",
    "version": 2
   },
   "file_extension": ".py",
   "mimetype": "text/x-python",
   "name": "python",
   "nbconvert_exporter": "python",
   "pygments_lexer": "ipython2",
   "version": "2.7.6"
  }
 },
 "nbformat": 4,
 "nbformat_minor": 0
}