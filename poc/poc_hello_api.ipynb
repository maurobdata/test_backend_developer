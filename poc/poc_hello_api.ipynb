{
 "cells": [
  {
   "cell_type": "code",
   "execution_count": 6,
   "metadata": {
    "collapsed": true
   },
   "outputs": [
    {
     "data": {
      "text/plain": "200"
     },
     "execution_count": 6,
     "metadata": {},
     "output_type": "execute_result"
    }
   ],
   "source": [
    "import urllib\n",
    "\n",
    "\n",
    "def api_http(test_url):\n",
    "    if not test_url:\n",
    "        print('NO_DATA_URL')\n",
    "        return\n",
    "\n",
    "    #check if url is valid\n",
    "    # if not valid\n",
    "    #   return\n",
    "\n",
    "    status_code = urllib.request.urlopen(test_url).getcode()\n",
    "\n",
    "    return status_code\n",
    "\n",
    "api_http('https://www.google.com')"
   ]
  }
 ],
 "metadata": {
  "kernelspec": {
   "display_name": "Python 3",
   "language": "python",
   "name": "python3"
  },
  "language_info": {
   "codemirror_mode": {
    "name": "ipython",
    "version": 2
   },
   "file_extension": ".py",
   "mimetype": "text/x-python",
   "name": "python",
   "nbconvert_exporter": "python",
   "pygments_lexer": "ipython2",
   "version": "2.7.6"
  }
 },
 "nbformat": 4,
 "nbformat_minor": 0
}